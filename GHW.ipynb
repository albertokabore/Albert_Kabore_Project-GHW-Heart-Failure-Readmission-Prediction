{
 "cells": [
  {
   "cell_type": "markdown",
   "id": "09be5b75",
   "metadata": {},
   "source": [
    "## Albert Kabore\n",
    "\n",
    "### Project Title: GHW Heart Failure Readmission Prediction\n"
   ]
  },
  {
   "cell_type": "markdown",
   "id": "b679c099",
   "metadata": {},
   "source": [
    "### Introduction\n",
    "\n",
    "The growing burden of hospital readmissions, especially among heart failure patients, presents a critical challenge for healthcare systems. High readmission rates contribute to increased healthcare costs, strained resources, and poorer patient outcomes. In response, healthcare providers are turning to data-driven solutions to proactively identify at-risk patients and improve post-discharge care.\n",
    "\n",
    "This project, titled GHW Heart Failure Readmission Prediction, aims to leverage real-world patient data to predict the likelihood of readmission within 30 or 60 days after discharge. The dataset—sourced from Kaggle—comprises diverse information, including demographics (age, gender, race), medical history (chronic illnesses, comorbidities), lab results (creatinine, sodium, hemoglobin), vitals (blood pressure, heart rate), and hospitalization records (length of stay, discharge type, previous admissions).\n",
    "\n",
    "The core objective is to build and evaluate machine learning models that can accurately identify patients at high risk of readmission. In doing so, the project not only demonstrates predictive modeling techniques but also offers clinical insights that can support healthcare professionals in making informed decisions to reduce preventable readmissions and enhance patient care."
   ]
  },
  {
   "cell_type": "code",
   "execution_count": 137,
   "id": "85e4da30",
   "metadata": {},
   "outputs": [
    {
     "name": "stderr",
     "output_type": "stream",
     "text": [
      "ERROR: Can not perform a '--user' install. User site-packages are not visible in this virtualenv.\n"
     ]
    }
   ],
   "source": [
    "!pip install scikit-learn==1.2.2 seaborn==0.13.1 matplotlib==3.7.1 numpy==1.25.2 pandas==1.5.3 imbalanced-learn==0.10.1 xgboost==2.0.3 -q --user"
   ]
  },
  {
   "cell_type": "code",
   "execution_count": 138,
   "id": "35b40d01",
   "metadata": {},
   "outputs": [],
   "source": [
    "!pip install --upgrade -q threadpoolctl\n"
   ]
  },
  {
   "cell_type": "code",
   "execution_count": 139,
   "id": "578a749c",
   "metadata": {},
   "outputs": [
    {
     "name": "stdout",
     "output_type": "stream",
     "text": [
      "Requirement already satisfied: jinja2 in c:\\users\\alber\\albert_kabore_project-ghw-heart-failure-readmission-prediction\\.venv\\lib\\site-packages (3.1.6)\n",
      "Requirement already satisfied: MarkupSafe>=2.0 in c:\\users\\alber\\albert_kabore_project-ghw-heart-failure-readmission-prediction\\.venv\\lib\\site-packages (from jinja2) (3.0.3)\n"
     ]
    }
   ],
   "source": [
    "!pip install jinja2\n"
   ]
  },
  {
   "cell_type": "code",
   "execution_count": 140,
   "id": "25f7a988",
   "metadata": {},
   "outputs": [
    {
     "name": "stdout",
     "output_type": "stream",
     "text": [
      "Requirement already satisfied: imbalanced-learn in c:\\users\\alber\\albert_kabore_project-ghw-heart-failure-readmission-prediction\\.venv\\lib\\site-packages (0.14.0)\n",
      "Requirement already satisfied: numpy<3,>=1.25.2 in c:\\users\\alber\\albert_kabore_project-ghw-heart-failure-readmission-prediction\\.venv\\lib\\site-packages (from imbalanced-learn) (2.3.4)\n",
      "Requirement already satisfied: scipy<2,>=1.11.4 in c:\\users\\alber\\albert_kabore_project-ghw-heart-failure-readmission-prediction\\.venv\\lib\\site-packages (from imbalanced-learn) (1.16.3)\n",
      "Requirement already satisfied: scikit-learn<2,>=1.4.2 in c:\\users\\alber\\albert_kabore_project-ghw-heart-failure-readmission-prediction\\.venv\\lib\\site-packages (from imbalanced-learn) (1.7.2)\n",
      "Requirement already satisfied: joblib<2,>=1.2.0 in c:\\users\\alber\\albert_kabore_project-ghw-heart-failure-readmission-prediction\\.venv\\lib\\site-packages (from imbalanced-learn) (1.5.2)\n",
      "Requirement already satisfied: threadpoolctl<4,>=2.0.0 in c:\\users\\alber\\albert_kabore_project-ghw-heart-failure-readmission-prediction\\.venv\\lib\\site-packages (from imbalanced-learn) (3.6.0)\n",
      "Note: you may need to restart the kernel to use updated packages.\n"
     ]
    }
   ],
   "source": [
    "%pip install imbalanced-learn\n"
   ]
  },
  {
   "cell_type": "markdown",
   "id": "755d8a9e",
   "metadata": {},
   "source": [
    "Importing necessary libraries\n"
   ]
  },
  {
   "cell_type": "code",
   "execution_count": 141,
   "id": "04e742bb",
   "metadata": {},
   "outputs": [],
   "source": [
    "# Libraries to help with reading and manipulating data\n",
    "import pandas as pd\n",
    "import numpy as np\n",
    "\n",
    "# Libraries to help with data visualization\n",
    "import matplotlib.pyplot as plt\n",
    "import seaborn as sns\n",
    "\n",
    "# To tune model, get different metric scores, and split data\n",
    "from sklearn.metrics import (\n",
    "    f1_score,\n",
    "    accuracy_score,\n",
    "    recall_score,\n",
    "    precision_score,\n",
    "    confusion_matrix,\n",
    "    roc_auc_score,\n",
    "    ConfusionMatrixDisplay,\n",
    ")\n",
    "from sklearn.model_selection import train_test_split, StratifiedKFold, cross_val_score\n",
    "\n",
    "# To be used for data scaling and one hot encoding\n",
    "from sklearn.preprocessing import StandardScaler, MinMaxScaler, OneHotEncoder\n",
    "\n",
    "# To impute missing values\n",
    "from sklearn.impute import SimpleImputer\n",
    "\n",
    "# To oversample and undersample data\n",
    "from imblearn.over_sampling import SMOTE\n",
    "from imblearn.under_sampling import RandomUnderSampler\n",
    "\n",
    "# To do hyperparameter tuning\n",
    "from sklearn.model_selection import RandomizedSearchCV\n",
    "\n",
    "# To define maximum number of columns to be displayed in a dataframe\n",
    "pd.set_option(\"display.max_columns\", None)\n",
    "\n",
    "# To suppress scientific notations for a dataframe\n",
    "pd.set_option(\"display.float_format\", lambda x: \"%.3f\" % x)\n",
    "\n",
    "# To help with model building\n",
    "from sklearn.tree import DecisionTreeClassifier\n",
    "from sklearn.ensemble import (\n",
    "    AdaBoostClassifier,\n",
    "    GradientBoostingClassifier,\n",
    "    RandomForestClassifier,\n",
    "    BaggingClassifier,\n",
    ")\n",
    "from xgboost import XGBClassifier\n",
    "\n",
    "# To suppress scientific notations (again for consistency)\n",
    "pd.set_option(\"display.float_format\", lambda x: \"%.3f\" % x)\n",
    "\n",
    "# To suppress warnings\n",
    "import warnings\n",
    "warnings.filterwarnings(\"ignore\")"
   ]
  },
  {
   "cell_type": "code",
   "execution_count": 142,
   "id": "c5e3c757",
   "metadata": {},
   "outputs": [],
   "source": [
    "import warnings\n",
    "warnings.filterwarnings(\"ignore\")\n",
    "pd.set_option(\"display.max_columns\", None)\n",
    "pd.set_option(\"display.float_format\", lambda x: \"%.3f\" % x)"
   ]
  },
  {
   "cell_type": "markdown",
   "id": "2c919cd8",
   "metadata": {},
   "source": [
    "## Exploratory Data Analysis (EDA)"
   ]
  },
  {
   "cell_type": "markdown",
   "id": "a256449b",
   "metadata": {},
   "source": [
    "### Loading the dataset\n"
   ]
  },
  {
   "cell_type": "code",
   "execution_count": 143,
   "id": "0059a9d0",
   "metadata": {},
   "outputs": [],
   "source": [
    "df = pd.read_csv(\"GHW_HeartFailure_Readmission_Combined.csv\")\n"
   ]
  },
  {
   "cell_type": "markdown",
   "id": "bf19c1d5",
   "metadata": {},
   "source": [
    "### Data Overview\n"
   ]
  },
  {
   "cell_type": "markdown",
   "id": "0d8e9e45",
   "metadata": {},
   "source": [
    "Checking the shape of the dataset\n"
   ]
  },
  {
   "cell_type": "code",
   "execution_count": 144,
   "id": "60179ccd",
   "metadata": {},
   "outputs": [
    {
     "name": "stdout",
     "output_type": "stream",
     "text": [
      "(1000, 22)\n"
     ]
    }
   ],
   "source": [
    "print(df.shape)\n"
   ]
  },
  {
   "cell_type": "markdown",
   "id": "e002ef57",
   "metadata": {},
   "source": [
    "### Displaying the first few rows of the dataset\n"
   ]
  },
  {
   "cell_type": "code",
   "execution_count": 145,
   "id": "b126536d",
   "metadata": {},
   "outputs": [
    {
     "data": {
      "text/html": [
       "<div>\n",
       "<style scoped>\n",
       "    .dataframe tbody tr th:only-of-type {\n",
       "        vertical-align: middle;\n",
       "    }\n",
       "\n",
       "    .dataframe tbody tr th {\n",
       "        vertical-align: top;\n",
       "    }\n",
       "\n",
       "    .dataframe thead th {\n",
       "        text-align: right;\n",
       "    }\n",
       "</style>\n",
       "<table border=\"1\" class=\"dataframe\">\n",
       "  <thead>\n",
       "    <tr style=\"text-align: right;\">\n",
       "      <th></th>\n",
       "      <th>Patient_ID</th>\n",
       "      <th>Age</th>\n",
       "      <th>Gender</th>\n",
       "      <th>Ethnicity</th>\n",
       "      <th>Length_of_Stay</th>\n",
       "      <th>Previous_Admissions</th>\n",
       "      <th>Discharge_Disposition</th>\n",
       "      <th>Pulse</th>\n",
       "      <th>Temperature</th>\n",
       "      <th>Heart_Rate</th>\n",
       "      <th>Systolic_BP</th>\n",
       "      <th>Diastolic_BP</th>\n",
       "      <th>Respiratory_Rate</th>\n",
       "      <th>BUN</th>\n",
       "      <th>Creatinine</th>\n",
       "      <th>Sodium</th>\n",
       "      <th>Hemoglobin</th>\n",
       "      <th>NT_proBNP</th>\n",
       "      <th>Ejection_Fraction</th>\n",
       "      <th>Readmission_30Days</th>\n",
       "      <th>Readmission_60Days</th>\n",
       "      <th>Readmission_30or60Days</th>\n",
       "    </tr>\n",
       "  </thead>\n",
       "  <tbody>\n",
       "    <tr>\n",
       "      <th>0</th>\n",
       "      <td>1</td>\n",
       "      <td>83</td>\n",
       "      <td>Male</td>\n",
       "      <td>Other</td>\n",
       "      <td>7</td>\n",
       "      <td>4</td>\n",
       "      <td>Rehab</td>\n",
       "      <td>119</td>\n",
       "      <td>37.100</td>\n",
       "      <td>147</td>\n",
       "      <td>160</td>\n",
       "      <td>99</td>\n",
       "      <td>27</td>\n",
       "      <td>11</td>\n",
       "      <td>0.610</td>\n",
       "      <td>127</td>\n",
       "      <td>13.100</td>\n",
       "      <td>2973</td>\n",
       "      <td>39</td>\n",
       "      <td>0</td>\n",
       "      <td>0</td>\n",
       "      <td>0</td>\n",
       "    </tr>\n",
       "    <tr>\n",
       "      <th>1</th>\n",
       "      <td>2</td>\n",
       "      <td>73</td>\n",
       "      <td>Female</td>\n",
       "      <td>Hispanic</td>\n",
       "      <td>10</td>\n",
       "      <td>2</td>\n",
       "      <td>Home</td>\n",
       "      <td>107</td>\n",
       "      <td>38.400</td>\n",
       "      <td>54</td>\n",
       "      <td>151</td>\n",
       "      <td>75</td>\n",
       "      <td>13</td>\n",
       "      <td>15</td>\n",
       "      <td>1.480</td>\n",
       "      <td>145</td>\n",
       "      <td>11.400</td>\n",
       "      <td>3220</td>\n",
       "      <td>56</td>\n",
       "      <td>0</td>\n",
       "      <td>0</td>\n",
       "      <td>0</td>\n",
       "    </tr>\n",
       "    <tr>\n",
       "      <th>2</th>\n",
       "      <td>3</td>\n",
       "      <td>59</td>\n",
       "      <td>Female</td>\n",
       "      <td>White</td>\n",
       "      <td>5</td>\n",
       "      <td>1</td>\n",
       "      <td>Expired</td>\n",
       "      <td>63</td>\n",
       "      <td>39.000</td>\n",
       "      <td>118</td>\n",
       "      <td>112</td>\n",
       "      <td>57</td>\n",
       "      <td>21</td>\n",
       "      <td>26</td>\n",
       "      <td>1.540</td>\n",
       "      <td>147</td>\n",
       "      <td>10.900</td>\n",
       "      <td>1190</td>\n",
       "      <td>50</td>\n",
       "      <td>0</td>\n",
       "      <td>0</td>\n",
       "      <td>0</td>\n",
       "    </tr>\n",
       "    <tr>\n",
       "      <th>3</th>\n",
       "      <td>4</td>\n",
       "      <td>87</td>\n",
       "      <td>Female</td>\n",
       "      <td>White</td>\n",
       "      <td>8</td>\n",
       "      <td>3</td>\n",
       "      <td>Expired</td>\n",
       "      <td>86</td>\n",
       "      <td>39.200</td>\n",
       "      <td>80</td>\n",
       "      <td>135</td>\n",
       "      <td>55</td>\n",
       "      <td>27</td>\n",
       "      <td>34</td>\n",
       "      <td>1.630</td>\n",
       "      <td>133</td>\n",
       "      <td>10.100</td>\n",
       "      <td>2934</td>\n",
       "      <td>29</td>\n",
       "      <td>1</td>\n",
       "      <td>1</td>\n",
       "      <td>1</td>\n",
       "    </tr>\n",
       "    <tr>\n",
       "      <th>4</th>\n",
       "      <td>5</td>\n",
       "      <td>52</td>\n",
       "      <td>Female</td>\n",
       "      <td>Asian</td>\n",
       "      <td>1</td>\n",
       "      <td>1</td>\n",
       "      <td>Home</td>\n",
       "      <td>117</td>\n",
       "      <td>38.500</td>\n",
       "      <td>94</td>\n",
       "      <td>145</td>\n",
       "      <td>79</td>\n",
       "      <td>16</td>\n",
       "      <td>32</td>\n",
       "      <td>2.570</td>\n",
       "      <td>146</td>\n",
       "      <td>12.800</td>\n",
       "      <td>4324</td>\n",
       "      <td>37</td>\n",
       "      <td>0</td>\n",
       "      <td>0</td>\n",
       "      <td>0</td>\n",
       "    </tr>\n",
       "  </tbody>\n",
       "</table>\n",
       "</div>"
      ],
      "text/plain": [
       "   Patient_ID  Age  Gender Ethnicity  Length_of_Stay  Previous_Admissions  \\\n",
       "0           1   83    Male     Other               7                    4   \n",
       "1           2   73  Female  Hispanic              10                    2   \n",
       "2           3   59  Female     White               5                    1   \n",
       "3           4   87  Female     White               8                    3   \n",
       "4           5   52  Female     Asian               1                    1   \n",
       "\n",
       "  Discharge_Disposition  Pulse  Temperature  Heart_Rate  Systolic_BP  \\\n",
       "0                 Rehab    119       37.100         147          160   \n",
       "1                  Home    107       38.400          54          151   \n",
       "2               Expired     63       39.000         118          112   \n",
       "3               Expired     86       39.200          80          135   \n",
       "4                  Home    117       38.500          94          145   \n",
       "\n",
       "   Diastolic_BP  Respiratory_Rate  BUN  Creatinine  Sodium  Hemoglobin  \\\n",
       "0            99                27   11       0.610     127      13.100   \n",
       "1            75                13   15       1.480     145      11.400   \n",
       "2            57                21   26       1.540     147      10.900   \n",
       "3            55                27   34       1.630     133      10.100   \n",
       "4            79                16   32       2.570     146      12.800   \n",
       "\n",
       "   NT_proBNP  Ejection_Fraction  Readmission_30Days  Readmission_60Days  \\\n",
       "0       2973                 39                   0                   0   \n",
       "1       3220                 56                   0                   0   \n",
       "2       1190                 50                   0                   0   \n",
       "3       2934                 29                   1                   1   \n",
       "4       4324                 37                   0                   0   \n",
       "\n",
       "   Readmission_30or60Days  \n",
       "0                       0  \n",
       "1                       0  \n",
       "2                       0  \n",
       "3                       1  \n",
       "4                       0  "
      ]
     },
     "metadata": {},
     "output_type": "display_data"
    }
   ],
   "source": [
    "# let's view the first 5 rows of the data\n",
    "\n",
    "display(df.head())"
   ]
  },
  {
   "cell_type": "markdown",
   "id": "942c9444",
   "metadata": {},
   "source": [
    "### Checking the data types of the columns for the dataset\n"
   ]
  },
  {
   "cell_type": "code",
   "execution_count": 146,
   "id": "4dcc9dcc",
   "metadata": {},
   "outputs": [
    {
     "name": "stdout",
     "output_type": "stream",
     "text": [
      "<class 'pandas.core.frame.DataFrame'>\n",
      "RangeIndex: 1000 entries, 0 to 999\n",
      "Data columns (total 22 columns):\n",
      " #   Column                  Non-Null Count  Dtype  \n",
      "---  ------                  --------------  -----  \n",
      " 0   Patient_ID              1000 non-null   int64  \n",
      " 1   Age                     1000 non-null   int64  \n",
      " 2   Gender                  1000 non-null   object \n",
      " 3   Ethnicity               1000 non-null   object \n",
      " 4   Length_of_Stay          1000 non-null   int64  \n",
      " 5   Previous_Admissions     1000 non-null   int64  \n",
      " 6   Discharge_Disposition   1000 non-null   object \n",
      " 7   Pulse                   1000 non-null   int64  \n",
      " 8   Temperature             1000 non-null   float64\n",
      " 9   Heart_Rate              1000 non-null   int64  \n",
      " 10  Systolic_BP             1000 non-null   int64  \n",
      " 11  Diastolic_BP            1000 non-null   int64  \n",
      " 12  Respiratory_Rate        1000 non-null   int64  \n",
      " 13  BUN                     1000 non-null   int64  \n",
      " 14  Creatinine              1000 non-null   float64\n",
      " 15  Sodium                  1000 non-null   int64  \n",
      " 16  Hemoglobin              1000 non-null   float64\n",
      " 17  NT_proBNP               1000 non-null   int64  \n",
      " 18  Ejection_Fraction       1000 non-null   int64  \n",
      " 19  Readmission_30Days      1000 non-null   int64  \n",
      " 20  Readmission_60Days      1000 non-null   int64  \n",
      " 21  Readmission_30or60Days  1000 non-null   int64  \n",
      "dtypes: float64(3), int64(16), object(3)\n",
      "memory usage: 172.0+ KB\n"
     ]
    }
   ],
   "source": [
    "df.info()\n"
   ]
  },
  {
   "cell_type": "markdown",
   "id": "68ccad5c",
   "metadata": {},
   "source": [
    "### Checking for duplicate values\n"
   ]
  },
  {
   "cell_type": "code",
   "execution_count": 147,
   "id": "9f441b5d",
   "metadata": {},
   "outputs": [
    {
     "name": "stdout",
     "output_type": "stream",
     "text": [
      "\n",
      "Duplicate rows: 0\n"
     ]
    }
   ],
   "source": [
    "# Duplicates\n",
    "duplicates = df.duplicated().sum()\n",
    "print(f\"\\nDuplicate rows: {duplicates}\")\n"
   ]
  },
  {
   "cell_type": "markdown",
   "id": "3149155f",
   "metadata": {},
   "source": [
    "### Checking for missing values\n"
   ]
  },
  {
   "cell_type": "code",
   "execution_count": 148,
   "id": "f40bf2d7",
   "metadata": {},
   "outputs": [
    {
     "name": "stdout",
     "output_type": "stream",
     "text": [
      "\n",
      "Missing values:\n",
      " No missing values\n"
     ]
    }
   ],
   "source": [
    "# Missing values\n",
    "missing = df.isnull().sum()\n",
    "missing = missing[missing > 0]\n",
    "print(\"\\nMissing values:\")\n",
    "print(missing if not missing.empty else \" No missing values\")"
   ]
  },
  {
   "cell_type": "code",
   "execution_count": 149,
   "id": "e39acf3d",
   "metadata": {},
   "outputs": [
    {
     "data": {
      "text/plain": [
       "Patient_ID               0.000\n",
       "Age                      0.000\n",
       "Gender                   0.000\n",
       "Ethnicity                0.000\n",
       "Length_of_Stay           0.000\n",
       "Previous_Admissions      0.000\n",
       "Discharge_Disposition    0.000\n",
       "Pulse                    0.000\n",
       "Temperature              0.000\n",
       "Heart_Rate               0.000\n",
       "Systolic_BP              0.000\n",
       "Diastolic_BP             0.000\n",
       "Respiratory_Rate         0.000\n",
       "BUN                      0.000\n",
       "Creatinine               0.000\n",
       "Sodium                   0.000\n",
       "Hemoglobin               0.000\n",
       "NT_proBNP                0.000\n",
       "Ejection_Fraction        0.000\n",
       "Readmission_30Days       0.000\n",
       "Readmission_60Days       0.000\n",
       "Readmission_30or60Days   0.000\n",
       "dtype: float64"
      ]
     },
     "execution_count": 149,
     "metadata": {},
     "output_type": "execute_result"
    }
   ],
   "source": [
    "# let's check for missing values in the data\n",
    "round(df.isnull().sum() / df.isnull().count() * 100, 2)"
   ]
  },
  {
   "cell_type": "code",
   "execution_count": 150,
   "id": "3ca8b25d",
   "metadata": {},
   "outputs": [],
   "source": [
    "# Heuristics to find a binary readmission target column\n",
    "candidates = [c for c in df.columns if any(key in c.lower() for key in [\"readmit\", \"readmission\", \"readm\", \"target\", \"label\"])]\n",
    "target_col = None\n",
    "for c in candidates:\n",
    "    # consider columns with <= 3 unique non-null values as binary-like\n",
    "    nun = df[c].dropna().nunique()\n",
    "    if nun <= 3:\n",
    "        target_col = c\n",
    "        break\n",
    "\n",
    "# Fallbacks if heuristic did not find a target\n",
    "if target_col is None:\n",
    "    if \"Readmitted\" in df.columns:\n",
    "        target_col = \"Readmitted\"\n",
    "    elif \"readmitted\" in df.columns:\n",
    "        target_col = \"readmitted\"\n",
    "    elif \"Readmission\" in df.columns:\n",
    "        target_col = \"Readmission\"\n",
    "    else:\n",
    "        # choose the last column as a last resort\n",
    "        target_col = df.columns[-1]\n",
    "\n"
   ]
  },
  {
   "cell_type": "markdown",
   "id": "5ea469d7",
   "metadata": {},
   "source": [
    "## Display a screenshot showing your target y histogram:"
   ]
  },
  {
   "cell_type": "code",
   "execution_count": 151,
   "id": "90f87942",
   "metadata": {},
   "outputs": [
    {
     "data": {
      "image/png": "[encoded data removed]",
      "text/plain": [
       "<Figure size 800x500 with 1 Axes>"
      ]
     },
     "metadata": {},
     "output_type": "display_data"
    },
    {
     "name": "stdout",
     "output_type": "stream",
     "text": [
      "Class distribution:\n",
      "Not Readmitted (0): 499 patients (49.9%)\n",
      "Readmitted (1): 501 patients (50.1%)\n",
      "Total patients: 1000\n"
     ]
    }
   ],
   "source": [
    "# Create the target variable histogram with correct column name\n",
    "plt.figure(figsize=(8, 5))\n",
    "target_counts = df['Readmission_30or60Days'].value_counts()\n",
    "plt.bar(target_counts.index, target_counts.values, color=['skyblue', 'lightcoral'], alpha=0.7, edgecolor='black')\n",
    "plt.title('Distribution of 30/60 Day Readmissions (Target Variable)', fontsize=14, fontweight='bold')\n",
    "plt.xlabel('Readmission Status (0 = Not Readmitted, 1 = Readmitted)', fontsize=12)\n",
    "plt.ylabel('Number of Patients', fontsize=12)\n",
    "plt.xticks([0, 1])\n",
    "plt.grid(axis='y', alpha=0.3)\n",
    "\n",
    "# Add count labels on bars\n",
    "for i, count in enumerate(target_counts.values):\n",
    "    plt.text(i, count + 10, str(count), ha='center', va='bottom', fontsize=12, fontweight='bold')\n",
    "\n",
    "# Add percentage labels\n",
    "total = len(df)\n",
    "percentages = [f'({count/total*100:.1f}%)' for count in target_counts.values]\n",
    "for i, percentage in enumerate(percentages):\n",
    "    plt.text(i, target_counts.values[i]//2, percentage, ha='center', va='center', fontsize=11, color='white', fontweight='bold')\n",
    "\n",
    "plt.tight_layout()\n",
    "plt.show()\n",
    "\n",
    "print(f\"Class distribution:\")\n",
    "print(f\"Not Readmitted (0): {target_counts[0]} patients ({target_counts[0]/total*100:.1f}%)\")\n",
    "print(f\"Readmitted (1): {target_counts[1]} patients ({target_counts[1]/total*100:.1f}%)\")\n",
    "print(f\"Total patients: {total}\")"
   ]
  },
  {
   "cell_type": "markdown",
   "id": "e288c8a0",
   "metadata": {},
   "source": [
    "## Display a screenshot showing your target x histogram(s):\n",
    "\n"
   ]
  },
  {
   "cell_type": "code",
   "execution_count": 152,
   "id": "be968549",
   "metadata": {},
   "outputs": [
    {
     "data": {
      "image/png": "[encoded data removed]",
      "text/plain": [
       "<Figure size 1200x300 with 2 Axes>"
      ]
     },
     "metadata": {},
     "output_type": "display_data"
    },
    {
     "name": "stdout",
     "output_type": "stream",
     "text": [
      "NT-proBNP Statistics:\n",
      "count   1000.000\n",
      "mean    2552.547\n",
      "std     1416.044\n",
      "min      100.000\n",
      "25%     1352.750\n",
      "50%     2546.000\n",
      "75%     3747.250\n",
      "max     4997.000\n",
      "Name: NT_proBNP, dtype: float64\n",
      "\n",
      "Patients with NT-proBNP > 1000 pg/mL: 829 (82.9%)\n",
      "Patients with NT-proBNP > 5000 pg/mL: 0 (0.0%)\n"
     ]
    }
   ],
   "source": [
    "# Plot NT_proBNP distribution\n",
    "plt.figure(figsize=(12, 3))\n",
    "\n",
    "# Histogram with log scale to better visualize the distribution\n",
    "plt.subplot(1, 2, 1)\n",
    "plt.hist(df['NT_proBNP'], bins=50, edgecolor='black', alpha=0.7, color='lightblue')\n",
    "plt.title('NT-proBNP Distribution\\n(Linear Scale)', fontsize=12)\n",
    "plt.xlabel('NT-proBNP (pg/mL)', fontsize=10)\n",
    "plt.ylabel('Frequency', fontsize=10)\n",
    "plt.grid(alpha=0.3)\n",
    "\n",
    "plt.subplot(1, 2, 2)\n",
    "plt.hist(df['NT_proBNP'], bins=50, edgecolor='black', alpha=0.7, color='lightgreen')\n",
    "plt.yscale('log')\n",
    "plt.title('NT-proBNP Distribution\\n(Log Scale)', fontsize=12)\n",
    "plt.xlabel('NT-proBNP (pg/mL)', fontsize=10)\n",
    "plt.ylabel('Frequency (log scale)', fontsize=10)\n",
    "plt.grid(alpha=0.3)\n",
    "\n",
    "plt.tight_layout()\n",
    "plt.show()\n",
    "\n",
    "# Statistical summary\n",
    "print(\"NT-proBNP Statistics:\")\n",
    "print(df['NT_proBNP'].describe())\n",
    "print(f\"\\nPatients with NT-proBNP > 1000 pg/mL: {len(df[df['NT_proBNP'] > 1000])} ({len(df[df['NT_proBNP'] > 1000])/len(df)*100:.1f}%)\")\n",
    "print(f\"Patients with NT-proBNP > 5000 pg/mL: {len(df[df['NT_proBNP'] > 5000])} ({len(df[df['NT_proBNP'] > 5000])/len(df)*100:.1f}%)\")"
   ]
  },
  {
   "cell_type": "code",
   "execution_count": 153,
   "id": "eb4e8b6c",
   "metadata": {},
   "outputs": [
    {
     "name": "stdout",
     "output_type": "stream",
     "text": [
      "NT-proBNP Risk Category Distribution:\n",
      "High_Risk: 829 patients (82.9%), Readmission rate: 50.8%\n",
      "Intermediate_Risk: 132 patients (13.2%), Readmission rate: 47.0%\n",
      "Low_Risk: 39 patients (3.9%), Readmission rate: 46.2%\n"
     ]
    },
    {
     "data": {
      "image/png": "[encoded data removed]",
      "text/plain": [
       "<Figure size 1500x500 with 3 Axes>"
      ]
     },
     "metadata": {},
     "output_type": "display_data"
    }
   ],
   "source": [
    "\n",
    "# Apply logarithmic transformation to handle skewness\n",
    "df['NT_proBNP_log'] = np.log1p(df['NT_proBNP'])  # log1p handles zero values\n",
    "\n",
    "# Create risk categories based on clinical thresholds\n",
    "def categorize_nt_probnp_risk(nt_probnp):\n",
    "    if nt_probnp < 300:\n",
    "        return 'Low_Risk'\n",
    "    elif nt_probnp < 1000:\n",
    "        return 'Intermediate_Risk'\n",
    "    elif nt_probnp < 5000:\n",
    "        return 'High_Risk'\n",
    "    else:\n",
    "        return 'Very_High_Risk'\n",
    "\n",
    "df['NT_proBNP_Risk_Category'] = df['NT_proBNP'].apply(categorize_nt_probnp_risk)\n",
    "\n",
    "# Verify the transformation\n",
    "print(\"NT-proBNP Risk Category Distribution:\")\n",
    "risk_counts = df['NT_proBNP_Risk_Category'].value_counts()\n",
    "for risk_category in risk_counts.index:\n",
    "    count = risk_counts[risk_category]\n",
    "    readmission_rate = df[df['NT_proBNP_Risk_Category'] == risk_category]['Readmission_30or60Days'].mean() * 100\n",
    "    print(f\"{risk_category}: {count} patients ({count/len(df)*100:.1f}%), Readmission rate: {readmission_rate:.1f}%\")\n",
    "\n",
    "# Visualize before and after transformation\n",
    "plt.figure(figsize=(15, 5))\n",
    "\n",
    "plt.subplot(1, 3, 1)\n",
    "plt.hist(df['NT_proBNP'], bins=50, edgecolor='black', alpha=0.7)\n",
    "plt.title('Original NT-proBNP\\n(Highly Skewed)', fontsize=12)\n",
    "plt.xlabel('NT-proBNP (pg/mL)')\n",
    "plt.ylabel('Frequency')\n",
    "\n",
    "plt.subplot(1, 3, 2)\n",
    "plt.hist(df['NT_proBNP_log'], bins=30, edgecolor='black', alpha=0.7, color='green')\n",
    "plt.title('Log-Transformed NT-proBNP\\n(Normalized)', fontsize=12)\n",
    "plt.xlabel('log(NT-proBNP + 1)')\n",
    "plt.ylabel('Frequency')\n",
    "\n",
    "plt.subplot(1, 3, 3)\n",
    "risk_order = ['Low_Risk', 'Intermediate_Risk', 'High_Risk', 'Very_High_Risk']\n",
    "readmission_by_risk = df.groupby('NT_proBNP_Risk_Category')['Readmission_30or60Days'].mean().reindex(risk_order)\n",
    "readmission_by_risk.plot(kind='bar', color=['lightgreen', 'yellow', 'orange', 'red'])\n",
    "plt.title('Readmission Rates by NT-proBNP Risk', fontsize=12)\n",
    "plt.xlabel('Risk Category')\n",
    "plt.ylabel('Readmission Rate')\n",
    "plt.xticks(rotation=45)\n",
    "\n",
    "plt.tight_layout()\n",
    "plt.show()"
   ]
  },
  {
   "cell_type": "code",
   "execution_count": null,
   "id": "c28340a0",
   "metadata": {},
   "outputs": [],
   "source": []
  },
  {
   "cell_type": "code",
   "execution_count": null,
   "id": "c711c779",
   "metadata": {},
   "outputs": [],
   "source": []
  }
 ],
 "metadata": {
  "kernelspec": {
   "display_name": ".venv",
   "language": "python",
   "name": "python3"
  },
  "language_info": {
   "codemirror_mode": {
    "name": "ipython",
    "version": 3
   },
   "file_extension": ".py",
   "mimetype": "text/x-python",
   "name": "python",
   "nbconvert_exporter": "python",
   "pygments_lexer": "ipython3",
   "version": "3.13.5"
  }
 },
 "nbformat": 4,
 "nbformat_minor": 5
}
